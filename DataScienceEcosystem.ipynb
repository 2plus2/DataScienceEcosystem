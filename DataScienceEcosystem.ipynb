{
  "metadata": {
    "kernelspec": {
      "name": "python",
      "display_name": "Python (Pyodide)",
      "language": "python"
    },
    "language_info": {
      "name": ""
    }
  },
  "nbformat_minor": 4,
  "nbformat": 4,
  "cells": [
    {
      "cell_type": "markdown",
      "source": "# Data Science Tools and Ecosystem",
      "metadata": {}
    },
    {
      "cell_type": "markdown",
      "source": "In this notebook, Data Science Tools and Ecosystem are summarized.\n\nData Science Tools: These tools are used for various tasks in the data science pipeline, including data cleaning, analysis, visualization, and machine learning.the data science ecosystem comprises a wide range of tools and technologies designed to manage, analyze, and derive insights from data, with programming languages, libraries, and cloud platforms playing central roles.",
      "metadata": {}
    },
    {
      "cell_type": "markdown",
      "source": "Some of the popular languages that Data Scientists use are:",
      "metadata": {}
    },
    {
      "cell_type": "markdown",
      "source": "1. R Programming language\n2. Python\n3. SAS programming\n4. SQL",
      "metadata": {}
    },
    {
      "cell_type": "markdown",
      "source": "Some of the commonly used libraries used by Data Scientists include:",
      "metadata": {}
    },
    {
      "cell_type": "markdown",
      "source": "1. Pandas\n2. Numpy\n3. Matplotlib\n4. SciPy\n5. Seaborn",
      "metadata": {}
    },
    {
      "cell_type": "markdown",
      "source": "| Data Science Tools |\n|--------------------|\n| Jupyter Notebook   |\n| RStudio            |\n| Spyder             |\n",
      "metadata": {}
    },
    {
      "cell_type": "markdown",
      "source": "### Below are a few examples of evaluating arithmetic expressions in Python\n\n1. **Addition**: `5 + 3` results in `8`.\n2. **Subtraction**: `10 - 4` results in `6`.\n3. **Multiplication**: `7 * 6` results in `42`.\n4. **Division**: `15 / 3` results in `5`.\n5. **Exponentiation**: `2 ** 3` results in `8`.\n",
      "metadata": {}
    },
    {
      "cell_type": "markdown",
      "source": "#This a simple arithmetic expression to mutiply then add integers\n\n\n(3*4) + 5",
      "metadata": {}
    },
    {
      "cell_type": "markdown",
      "source": "17",
      "metadata": {}
    },
    {
      "cell_type": "markdown",
      "source": "This will convert 200 minutes to hours by dividing by 60\n\n200 / 60",
      "metadata": {}
    },
    {
      "cell_type": "markdown",
      "source": "3.3333333335",
      "metadata": {}
    },
    {
      "cell_type": "markdown",
      "source": "**Objectives:**\n\n- List popular languages for Data Science\n- Identify commonly used libraries in Data Science\n- Demonstrate how to create tables and lists in Jupyter Notebook\n- Show examples of basic arithmetic operations in Python\n- Convert time measurements using Python expressions",
      "metadata": {}
    },
    {
      "cell_type": "markdown",
      "source": "## Author\n\nMuhammad Ishaq",
      "metadata": {}
    },
    {
      "cell_type": "code",
      "source": "",
      "metadata": {
        "trusted": true
      },
      "outputs": [],
      "execution_count": null
    }
  ]
}